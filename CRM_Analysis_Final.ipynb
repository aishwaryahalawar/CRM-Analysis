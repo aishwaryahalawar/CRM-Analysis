{
  "nbformat": 4,
  "nbformat_minor": 0,
  "metadata": {
    "colab": {
      "provenance": []
    },
    "kernelspec": {
      "name": "python3",
      "display_name": "Python 3"
    },
    "language_info": {
      "name": "python"
    }
  },
  "cells": [
    {
      "cell_type": "code",
      "execution_count": 1,
      "metadata": {
        "id": "5vHfrjIjMhvv"
      },
      "outputs": [],
      "source": []
    },
    {
      "cell_type": "code",
      "source": [
        "#Data Loading\n",
        "import pandas as pd\n",
        "\n",
        "data = pd.read_csv('online_retail.csv', encoding='latin1')  # Try latin1 or another encoding\n",
        "print(data.info())"
      ],
      "metadata": {
        "colab": {
          "base_uri": "https://localhost:8080/"
        },
        "id": "sqteoKP1OhFn",
        "outputId": "1c25597b-d9c4-4be2-b615-3b2a8757ed43"
      },
      "execution_count": 2,
      "outputs": [
        {
          "output_type": "stream",
          "name": "stdout",
          "text": [
            "<class 'pandas.core.frame.DataFrame'>\n",
            "RangeIndex: 541910 entries, 0 to 541909\n",
            "Data columns (total 8 columns):\n",
            " #   Column       Non-Null Count   Dtype  \n",
            "---  ------       --------------   -----  \n",
            " 0   Invoice      541910 non-null  object \n",
            " 1   StockCode    541910 non-null  object \n",
            " 2   Description  540456 non-null  object \n",
            " 3   Quantity     541910 non-null  int64  \n",
            " 4   InvoiceDate  541910 non-null  object \n",
            " 5   Price        541910 non-null  float64\n",
            " 6   Customer ID  406830 non-null  float64\n",
            " 7   Country      541910 non-null  object \n",
            "dtypes: float64(2), int64(1), object(5)\n",
            "memory usage: 33.1+ MB\n",
            "None\n"
          ]
        }
      ]
    },
    {
      "cell_type": "code",
      "source": [
        "print(data.isnull().sum())"
      ],
      "metadata": {
        "colab": {
          "base_uri": "https://localhost:8080/"
        },
        "id": "eXBZC0KdOm5s",
        "outputId": "70939e61-c9ff-4505-ad14-32b3abb9c494"
      },
      "execution_count": 3,
      "outputs": [
        {
          "output_type": "stream",
          "name": "stdout",
          "text": [
            "Invoice             0\n",
            "StockCode           0\n",
            "Description      1454\n",
            "Quantity            0\n",
            "InvoiceDate         0\n",
            "Price               0\n",
            "Customer ID    135080\n",
            "Country             0\n",
            "dtype: int64\n"
          ]
        }
      ]
    },
    {
      "cell_type": "code",
      "source": [
        "pip install scikit-learn"
      ],
      "metadata": {
        "colab": {
          "base_uri": "https://localhost:8080/"
        },
        "id": "0zyafuVnOuk2",
        "outputId": "1824fabe-5ebe-4407-8577-3b18f59a1e7a"
      },
      "execution_count": 4,
      "outputs": [
        {
          "output_type": "stream",
          "name": "stdout",
          "text": [
            "Requirement already satisfied: scikit-learn in /usr/local/lib/python3.11/dist-packages (1.6.0)\n",
            "Requirement already satisfied: numpy>=1.19.5 in /usr/local/lib/python3.11/dist-packages (from scikit-learn) (1.26.4)\n",
            "Requirement already satisfied: scipy>=1.6.0 in /usr/local/lib/python3.11/dist-packages (from scikit-learn) (1.13.1)\n",
            "Requirement already satisfied: joblib>=1.2.0 in /usr/local/lib/python3.11/dist-packages (from scikit-learn) (1.4.2)\n",
            "Requirement already satisfied: threadpoolctl>=3.1.0 in /usr/local/lib/python3.11/dist-packages (from scikit-learn) (3.5.0)\n"
          ]
        }
      ]
    },
    {
      "cell_type": "code",
      "source": [
        "#For Quantity and Price, use the mean or median if numeric.\n",
        "#For Country and InvoiceDate, use the most frequent value or infer based on related data.\n",
        "data['Quantity'].fillna(data['Quantity'].median(), inplace=True)\n",
        "data['Price'].fillna(data['Price'].mean(), inplace=True)\n",
        "data['InvoiceDate'].fillna(method='ffill', inplace=True)  # Forward-fill the date\n",
        "data['Country'].fillna(data['Country'].mode()[0], inplace=True)"
      ],
      "metadata": {
        "colab": {
          "base_uri": "https://localhost:8080/"
        },
        "id": "Y7eRuq3qO08j",
        "outputId": "e1098b84-98e4-4bf2-8c39-a46961ab1972"
      },
      "execution_count": 5,
      "outputs": [
        {
          "output_type": "stream",
          "name": "stderr",
          "text": [
            "<ipython-input-5-570e81ff3eb4>:3: FutureWarning: A value is trying to be set on a copy of a DataFrame or Series through chained assignment using an inplace method.\n",
            "The behavior will change in pandas 3.0. This inplace method will never work because the intermediate object on which we are setting values always behaves as a copy.\n",
            "\n",
            "For example, when doing 'df[col].method(value, inplace=True)', try using 'df.method({col: value}, inplace=True)' or df[col] = df[col].method(value) instead, to perform the operation inplace on the original object.\n",
            "\n",
            "\n",
            "  data['Quantity'].fillna(data['Quantity'].median(), inplace=True)\n",
            "<ipython-input-5-570e81ff3eb4>:4: FutureWarning: A value is trying to be set on a copy of a DataFrame or Series through chained assignment using an inplace method.\n",
            "The behavior will change in pandas 3.0. This inplace method will never work because the intermediate object on which we are setting values always behaves as a copy.\n",
            "\n",
            "For example, when doing 'df[col].method(value, inplace=True)', try using 'df.method({col: value}, inplace=True)' or df[col] = df[col].method(value) instead, to perform the operation inplace on the original object.\n",
            "\n",
            "\n",
            "  data['Price'].fillna(data['Price'].mean(), inplace=True)\n",
            "<ipython-input-5-570e81ff3eb4>:5: FutureWarning: A value is trying to be set on a copy of a DataFrame or Series through chained assignment using an inplace method.\n",
            "The behavior will change in pandas 3.0. This inplace method will never work because the intermediate object on which we are setting values always behaves as a copy.\n",
            "\n",
            "For example, when doing 'df[col].method(value, inplace=True)', try using 'df.method({col: value}, inplace=True)' or df[col] = df[col].method(value) instead, to perform the operation inplace on the original object.\n",
            "\n",
            "\n",
            "  data['InvoiceDate'].fillna(method='ffill', inplace=True)  # Forward-fill the date\n",
            "<ipython-input-5-570e81ff3eb4>:5: FutureWarning: Series.fillna with 'method' is deprecated and will raise in a future version. Use obj.ffill() or obj.bfill() instead.\n",
            "  data['InvoiceDate'].fillna(method='ffill', inplace=True)  # Forward-fill the date\n",
            "<ipython-input-5-570e81ff3eb4>:6: FutureWarning: A value is trying to be set on a copy of a DataFrame or Series through chained assignment using an inplace method.\n",
            "The behavior will change in pandas 3.0. This inplace method will never work because the intermediate object on which we are setting values always behaves as a copy.\n",
            "\n",
            "For example, when doing 'df[col].method(value, inplace=True)', try using 'df.method({col: value}, inplace=True)' or df[col] = df[col].method(value) instead, to perform the operation inplace on the original object.\n",
            "\n",
            "\n",
            "  data['Country'].fillna(data['Country'].mode()[0], inplace=True)\n"
          ]
        }
      ]
    },
    {
      "cell_type": "code",
      "source": [
        "#For Description Column: Replace missing values with \"Unknown\" or \"No Description\"\n",
        "data['Description'].fillna(\"No Description\", inplace=True)"
      ],
      "metadata": {
        "colab": {
          "base_uri": "https://localhost:8080/"
        },
        "id": "E8WjHwCmO1qS",
        "outputId": "872c635c-45f3-4148-8625-f211cbb0b2b9"
      },
      "execution_count": 6,
      "outputs": [
        {
          "output_type": "stream",
          "name": "stderr",
          "text": [
            "<ipython-input-6-6d0955b3768c>:2: FutureWarning: A value is trying to be set on a copy of a DataFrame or Series through chained assignment using an inplace method.\n",
            "The behavior will change in pandas 3.0. This inplace method will never work because the intermediate object on which we are setting values always behaves as a copy.\n",
            "\n",
            "For example, when doing 'df[col].method(value, inplace=True)', try using 'df.method({col: value}, inplace=True)' or df[col] = df[col].method(value) instead, to perform the operation inplace on the original object.\n",
            "\n",
            "\n",
            "  data['Description'].fillna(\"No Description\", inplace=True)\n"
          ]
        }
      ]
    },
    {
      "cell_type": "code",
      "source": [
        "# For missing Customer ID around 123,840 of this column missing\n",
        "#Dropping of rows with missing customer ID's\n",
        "data = data.dropna(subset=['Customer ID'])"
      ],
      "metadata": {
        "id": "HY1VmKhqO4QT"
      },
      "execution_count": 7,
      "outputs": []
    },
    {
      "cell_type": "code",
      "source": [
        "print(data.isnull().sum())"
      ],
      "metadata": {
        "colab": {
          "base_uri": "https://localhost:8080/"
        },
        "id": "rfKjPdePO63X",
        "outputId": "77c1e4ce-57e6-4c55-e40d-e0e3b494960a"
      },
      "execution_count": 8,
      "outputs": [
        {
          "output_type": "stream",
          "name": "stdout",
          "text": [
            "Invoice        0\n",
            "StockCode      0\n",
            "Description    0\n",
            "Quantity       0\n",
            "InvoiceDate    0\n",
            "Price          0\n",
            "Customer ID    0\n",
            "Country        0\n",
            "dtype: int64\n"
          ]
        }
      ]
    },
    {
      "cell_type": "code",
      "source": [
        "data = data[~data['Invoice'].str.startswith('C', na=False)]"
      ],
      "metadata": {
        "id": "GneqY1qiO9Ir"
      },
      "execution_count": 9,
      "outputs": []
    },
    {
      "cell_type": "code",
      "source": [
        "data = data.drop_duplicates()"
      ],
      "metadata": {
        "id": "uYkEmddmPAnf"
      },
      "execution_count": 10,
      "outputs": []
    },
    {
      "cell_type": "code",
      "source": [
        "print(data.describe())"
      ],
      "metadata": {
        "colab": {
          "base_uri": "https://localhost:8080/"
        },
        "id": "9EwLGAr5PDpk",
        "outputId": "c5030670-8c53-4d6b-d5e5-43f6eafdca61"
      },
      "execution_count": 11,
      "outputs": [
        {
          "output_type": "stream",
          "name": "stdout",
          "text": [
            "            Quantity          Price    Customer ID\n",
            "count  392733.000000  392733.000000  392733.000000\n",
            "mean       13.153687       3.125633   15287.728182\n",
            "std       181.588189      22.240710    1713.570644\n",
            "min         1.000000       0.000000   12346.000000\n",
            "25%         2.000000       1.250000   13955.000000\n",
            "50%         6.000000       1.950000   15150.000000\n",
            "75%        12.000000       3.750000   16791.000000\n",
            "max     80995.000000    8142.750000   18287.000000\n"
          ]
        }
      ]
    },
    {
      "cell_type": "code",
      "source": [
        "#Isolation Forest: A machine learning algorithm for anomaly detection\n",
        "from sklearn.ensemble import IsolationForest\n",
        "\n",
        "iso = IsolationForest(contamination=0.01, random_state=42)\n",
        "data['Anomaly'] = iso.fit_predict(data[['Quantity', 'Price']])\n",
        "data = data[data['Anomaly'] == 1].drop(columns=['Anomaly'])"
      ],
      "metadata": {
        "id": "lYHZFvMcPF43"
      },
      "execution_count": 12,
      "outputs": []
    },
    {
      "cell_type": "code",
      "source": [
        "# Remove rows with negative values in 'Quantity' or 'UnitPrice'\n",
        "data = data[(data['Quantity'] >= 1) & (data['Price'] >= 1)]"
      ],
      "metadata": {
        "id": "7zZ-jIRIPJAi"
      },
      "execution_count": 13,
      "outputs": []
    },
    {
      "cell_type": "code",
      "source": [
        "print(data[['Quantity', 'Price']].min())"
      ],
      "metadata": {
        "colab": {
          "base_uri": "https://localhost:8080/"
        },
        "id": "UST6Dt6nPMi0",
        "outputId": "7d76f890-5bd9-4b07-fd97-e8303433d113"
      },
      "execution_count": 14,
      "outputs": [
        {
          "output_type": "stream",
          "name": "stdout",
          "text": [
            "Quantity    1.0\n",
            "Price       1.0\n",
            "dtype: float64\n"
          ]
        }
      ]
    },
    {
      "cell_type": "code",
      "source": [
        "#Feature Engineering\n",
        "#Revenue=Quantity*Price\n",
        "data['Revenue'] = data['Quantity'] * data['Price']"
      ],
      "metadata": {
        "id": "Zfo7hiCiPOmm"
      },
      "execution_count": 15,
      "outputs": []
    },
    {
      "cell_type": "code",
      "source": [
        "#Encode categorical Columns like Country\n",
        "data = pd.get_dummies(data, columns=['Country'], drop_first=True)\n"
      ],
      "metadata": {
        "id": "pwIS5dwxPRcL"
      },
      "execution_count": 16,
      "outputs": []
    },
    {
      "cell_type": "code",
      "source": [
        "print(data.columns)\n"
      ],
      "metadata": {
        "colab": {
          "base_uri": "https://localhost:8080/"
        },
        "id": "orTwk_f8PUap",
        "outputId": "901cdfe4-437e-42bc-c89f-c1c5322589f9"
      },
      "execution_count": 17,
      "outputs": [
        {
          "output_type": "stream",
          "name": "stdout",
          "text": [
            "Index(['Invoice', 'StockCode', 'Description', 'Quantity', 'InvoiceDate',\n",
            "       'Price', 'Customer ID', 'Revenue', 'Country_Austria', 'Country_Bahrain',\n",
            "       'Country_Belgium', 'Country_Brazil', 'Country_Canada',\n",
            "       'Country_Channel Islands', 'Country_Cyprus', 'Country_Czech Republic',\n",
            "       'Country_Denmark', 'Country_EIRE', 'Country_European Community',\n",
            "       'Country_Finland', 'Country_France', 'Country_Germany',\n",
            "       'Country_Greece', 'Country_Iceland', 'Country_Israel', 'Country_Italy',\n",
            "       'Country_Japan', 'Country_Lebanon', 'Country_Lithuania',\n",
            "       'Country_Malta', 'Country_Netherlands', 'Country_Norway',\n",
            "       'Country_Poland', 'Country_Portugal', 'Country_RSA',\n",
            "       'Country_Saudi Arabia', 'Country_Singapore', 'Country_Spain',\n",
            "       'Country_Sweden', 'Country_Switzerland', 'Country_USA',\n",
            "       'Country_United Arab Emirates', 'Country_United Kingdom',\n",
            "       'Country_Unspecified'],\n",
            "      dtype='object')\n"
          ]
        }
      ]
    },
    {
      "cell_type": "code",
      "source": [
        "data.columns = data.columns.str.strip()  # Remove any leading/trailing spaces from column names"
      ],
      "metadata": {
        "id": "7ZTHaBATPWT-"
      },
      "execution_count": 18,
      "outputs": []
    },
    {
      "cell_type": "code",
      "source": [
        "import pandas as pd\n",
        "\n",
        "# Try loading the dataset with a different encoding\n",
        "X = pd.read_csv('online_retail.csv', encoding='ISO-8859-1')  # Replace with the correct file path\n",
        "\n",
        "# Step 2: Select numeric columns\n",
        "numeric_columns = X.select_dtypes(include=['float64', 'int64']).columns\n",
        "\n",
        "# Step 3: Impute missing values for numeric columns\n",
        "from sklearn.impute import SimpleImputer\n",
        "imputer = SimpleImputer(strategy='mean')\n",
        "X_numeric_imputed = imputer.fit_transform(X[numeric_columns])\n",
        "\n",
        "# Step 4: List all columns\n",
        "print(\"All columns in the original dataset:\", X.columns)\n",
        "\n",
        "# Step 5: Check the number of columns in the imputed data\n",
        "print(\"Shape of imputed data:\", X_numeric_imputed.shape)\n",
        "\n",
        "# Step 6: Ensure the imputed DataFrame has the correct number of columns\n",
        "X_imputed = pd.DataFrame(X_numeric_imputed, columns=numeric_columns[:X_numeric_imputed.shape[1]])\n",
        "\n",
        "# Step 7: Add the non-numeric (datetime) columns back\n",
        "datetime_columns = X.select_dtypes(include=['datetime']).columns\n",
        "X_imputed = pd.concat([X_imputed, X[datetime_columns]], axis=1)\n",
        "\n",
        "# Step 8: Check the final imputed data\n",
        "print(\"Final imputed data:\")\n",
        "print(X_imputed.head())"
      ],
      "metadata": {
        "colab": {
          "base_uri": "https://localhost:8080/"
        },
        "id": "03C_22P7PZe1",
        "outputId": "611d486f-0544-478c-a4a8-1b95b4ee6aca"
      },
      "execution_count": 19,
      "outputs": [
        {
          "output_type": "stream",
          "name": "stdout",
          "text": [
            "All columns in the original dataset: Index(['Invoice', 'StockCode', 'Description', 'Quantity', 'InvoiceDate',\n",
            "       'Price', 'Customer ID', 'Country'],\n",
            "      dtype='object')\n",
            "Shape of imputed data: (541910, 3)\n",
            "Final imputed data:\n",
            "   Quantity  Price  Customer ID\n",
            "0       6.0   2.55      17850.0\n",
            "1       6.0   3.39      17850.0\n",
            "2       8.0   2.75      17850.0\n",
            "3       6.0   3.39      17850.0\n",
            "4       6.0   3.39      17850.0\n"
          ]
        }
      ]
    },
    {
      "cell_type": "code",
      "source": [
        "print(data['InvoiceDate'].isnull().sum())  # Count missing values in InvoiceDate"
      ],
      "metadata": {
        "colab": {
          "base_uri": "https://localhost:8080/"
        },
        "id": "22T4kJfhPdMx",
        "outputId": "684b20bd-8725-4386-83b8-6318b01037d5"
      },
      "execution_count": 20,
      "outputs": [
        {
          "output_type": "stream",
          "name": "stdout",
          "text": [
            "0\n"
          ]
        }
      ]
    },
    {
      "cell_type": "code",
      "source": [
        "data['InvoiceDate'] = pd.to_datetime(data['InvoiceDate'], errors='coerce')"
      ],
      "metadata": {
        "id": "XzcohPhbPgb3"
      },
      "execution_count": 21,
      "outputs": []
    },
    {
      "cell_type": "code",
      "source": [
        "invalid_dates = data[data['InvoiceDate'].isna()]\n",
        "print(invalid_dates)"
      ],
      "metadata": {
        "colab": {
          "base_uri": "https://localhost:8080/"
        },
        "id": "ngZE-VDcPiyD",
        "outputId": "47ff5506-3643-451f-f8ef-f7a61fb6ee5f"
      },
      "execution_count": 22,
      "outputs": [
        {
          "output_type": "stream",
          "name": "stdout",
          "text": [
            "       Invoice StockCode                        Description  Quantity  \\\n",
            "26732   538521     21754           HOME BUILDING BLOCK WORD         3   \n",
            "26733   538521     21755           LOVE BUILDING BLOCK WORD         3   \n",
            "26734   538521     22072  RED RETROSPOT TEA CUP AND SAUCER          8   \n",
            "26735   538521     22846         BREAD BIN DINER STYLE RED          1   \n",
            "26736   538521     22849         BREAD BIN DINER STYLE MINT         1   \n",
            "...        ...       ...                                ...       ...   \n",
            "516364  579885    85034C        3 ROSE MORRIS BOXED CANDLES         4   \n",
            "516365  579885     21742        LARGE ROUND WICKER PLATTER          2   \n",
            "516366  579885     23084                 RABBIT NIGHT LIGHT         6   \n",
            "516367  579885     21257        VICTORIAN SEWING BOX MEDIUM         1   \n",
            "516368  579885     21259        VICTORIAN SEWING BOX SMALL          1   \n",
            "\n",
            "       InvoiceDate  Price  Customer ID  Revenue  Country_Austria  \\\n",
            "26732          NaT   5.95      14180.0    17.85            False   \n",
            "26733          NaT   5.95      14180.0    17.85            False   \n",
            "26734          NaT   3.75      14180.0    30.00            False   \n",
            "26735          NaT  16.95      14180.0    16.95            False   \n",
            "26736          NaT  16.95      14180.0    16.95            False   \n",
            "...            ...    ...          ...      ...              ...   \n",
            "516364         NaT   1.25      15444.0     5.00            False   \n",
            "516365         NaT   5.95      15444.0    11.90            False   \n",
            "516366         NaT   2.08      15444.0    12.48            False   \n",
            "516367         NaT   7.95      15444.0     7.95            False   \n",
            "516368         NaT   5.95      15444.0     5.95            False   \n",
            "\n",
            "        Country_Bahrain  ...  Country_RSA  Country_Saudi Arabia  \\\n",
            "26732             False  ...        False                 False   \n",
            "26733             False  ...        False                 False   \n",
            "26734             False  ...        False                 False   \n",
            "26735             False  ...        False                 False   \n",
            "26736             False  ...        False                 False   \n",
            "...                 ...  ...          ...                   ...   \n",
            "516364            False  ...        False                 False   \n",
            "516365            False  ...        False                 False   \n",
            "516366            False  ...        False                 False   \n",
            "516367            False  ...        False                 False   \n",
            "516368            False  ...        False                 False   \n",
            "\n",
            "        Country_Singapore  Country_Spain  Country_Sweden  Country_Switzerland  \\\n",
            "26732               False          False           False                False   \n",
            "26733               False          False           False                False   \n",
            "26734               False          False           False                False   \n",
            "26735               False          False           False                False   \n",
            "26736               False          False           False                False   \n",
            "...                   ...            ...             ...                  ...   \n",
            "516364              False          False           False                False   \n",
            "516365              False          False           False                False   \n",
            "516366              False          False           False                False   \n",
            "516367              False          False           False                False   \n",
            "516368              False          False           False                False   \n",
            "\n",
            "        Country_USA  Country_United Arab Emirates  Country_United Kingdom  \\\n",
            "26732         False                         False                    True   \n",
            "26733         False                         False                    True   \n",
            "26734         False                         False                    True   \n",
            "26735         False                         False                    True   \n",
            "26736         False                         False                    True   \n",
            "...             ...                           ...                     ...   \n",
            "516364        False                         False                    True   \n",
            "516365        False                         False                    True   \n",
            "516366        False                         False                    True   \n",
            "516367        False                         False                    True   \n",
            "516368        False                         False                    True   \n",
            "\n",
            "        Country_Unspecified  \n",
            "26732                 False  \n",
            "26733                 False  \n",
            "26734                 False  \n",
            "26735                 False  \n",
            "26736                 False  \n",
            "...                     ...  \n",
            "516364                False  \n",
            "516365                False  \n",
            "516366                False  \n",
            "516367                False  \n",
            "516368                False  \n",
            "\n",
            "[171949 rows x 44 columns]\n"
          ]
        }
      ]
    },
    {
      "cell_type": "code",
      "source": [
        "# Check unique values in InvoiceDate to identify any inconsistencies\n",
        "print(data['InvoiceDate'].unique())"
      ],
      "metadata": {
        "colab": {
          "base_uri": "https://localhost:8080/"
        },
        "id": "scizUlSzPkpU",
        "outputId": "b93069e6-845c-4c1e-8c89-cb15533a7cce"
      },
      "execution_count": 23,
      "outputs": [
        {
          "output_type": "stream",
          "name": "stdout",
          "text": [
            "<DatetimeArray>\n",
            "['2010-01-12 08:26:00', '2010-01-12 08:28:00', '2010-01-12 08:34:00',\n",
            " '2010-01-12 08:35:00', '2010-01-12 08:45:00', '2010-01-12 09:00:00',\n",
            " '2010-01-12 09:01:00', '2010-01-12 09:02:00', '2010-01-12 09:09:00',\n",
            " '2010-01-12 09:32:00',\n",
            " ...\n",
            " '2011-09-12 12:09:00', '2011-09-12 12:16:00', '2011-09-12 12:19:00',\n",
            " '2011-09-12 12:20:00', '2011-09-12 12:21:00', '2011-09-12 12:23:00',\n",
            " '2011-09-12 12:25:00', '2011-09-12 12:31:00', '2011-09-12 12:49:00',\n",
            " '2011-09-12 12:50:00']\n",
            "Length: 7121, dtype: datetime64[ns]\n"
          ]
        }
      ]
    },
    {
      "cell_type": "code",
      "source": [
        "# Convert to datetime using the specified format\n",
        "data['InvoiceDate'] = pd.to_datetime(data['InvoiceDate'], format='%d/%m/%Y', errors='coerce')\n",
        "print(data['InvoiceDate'])"
      ],
      "metadata": {
        "colab": {
          "base_uri": "https://localhost:8080/"
        },
        "id": "UPiN3REvPnvL",
        "outputId": "922ffb11-8bc3-4570-fa4b-4157a1a22a35"
      },
      "execution_count": 24,
      "outputs": [
        {
          "output_type": "stream",
          "name": "stdout",
          "text": [
            "0        2010-01-12 08:26:00\n",
            "1        2010-01-12 08:26:00\n",
            "2        2010-01-12 08:26:00\n",
            "3        2010-01-12 08:26:00\n",
            "4        2010-01-12 08:26:00\n",
            "                 ...        \n",
            "541905   2011-09-12 12:50:00\n",
            "541906   2011-09-12 12:50:00\n",
            "541907   2011-09-12 12:50:00\n",
            "541908   2011-09-12 12:50:00\n",
            "541909   2011-09-12 12:50:00\n",
            "Name: InvoiceDate, Length: 298411, dtype: datetime64[ns]\n"
          ]
        }
      ]
    },
    {
      "cell_type": "code",
      "source": [
        "print(data.info())"
      ],
      "metadata": {
        "colab": {
          "base_uri": "https://localhost:8080/"
        },
        "id": "R0spydP_PqcE",
        "outputId": "d52a4f62-9b0d-40a7-d001-32106d9e298c"
      },
      "execution_count": 25,
      "outputs": [
        {
          "output_type": "stream",
          "name": "stdout",
          "text": [
            "<class 'pandas.core.frame.DataFrame'>\n",
            "Index: 298411 entries, 0 to 541909\n",
            "Data columns (total 44 columns):\n",
            " #   Column                        Non-Null Count   Dtype         \n",
            "---  ------                        --------------   -----         \n",
            " 0   Invoice                       298411 non-null  object        \n",
            " 1   StockCode                     298411 non-null  object        \n",
            " 2   Description                   298411 non-null  object        \n",
            " 3   Quantity                      298411 non-null  int64         \n",
            " 4   InvoiceDate                   126462 non-null  datetime64[ns]\n",
            " 5   Price                         298411 non-null  float64       \n",
            " 6   Customer ID                   298411 non-null  float64       \n",
            " 7   Revenue                       298411 non-null  float64       \n",
            " 8   Country_Austria               298411 non-null  bool          \n",
            " 9   Country_Bahrain               298411 non-null  bool          \n",
            " 10  Country_Belgium               298411 non-null  bool          \n",
            " 11  Country_Brazil                298411 non-null  bool          \n",
            " 12  Country_Canada                298411 non-null  bool          \n",
            " 13  Country_Channel Islands       298411 non-null  bool          \n",
            " 14  Country_Cyprus                298411 non-null  bool          \n",
            " 15  Country_Czech Republic        298411 non-null  bool          \n",
            " 16  Country_Denmark               298411 non-null  bool          \n",
            " 17  Country_EIRE                  298411 non-null  bool          \n",
            " 18  Country_European Community    298411 non-null  bool          \n",
            " 19  Country_Finland               298411 non-null  bool          \n",
            " 20  Country_France                298411 non-null  bool          \n",
            " 21  Country_Germany               298411 non-null  bool          \n",
            " 22  Country_Greece                298411 non-null  bool          \n",
            " 23  Country_Iceland               298411 non-null  bool          \n",
            " 24  Country_Israel                298411 non-null  bool          \n",
            " 25  Country_Italy                 298411 non-null  bool          \n",
            " 26  Country_Japan                 298411 non-null  bool          \n",
            " 27  Country_Lebanon               298411 non-null  bool          \n",
            " 28  Country_Lithuania             298411 non-null  bool          \n",
            " 29  Country_Malta                 298411 non-null  bool          \n",
            " 30  Country_Netherlands           298411 non-null  bool          \n",
            " 31  Country_Norway                298411 non-null  bool          \n",
            " 32  Country_Poland                298411 non-null  bool          \n",
            " 33  Country_Portugal              298411 non-null  bool          \n",
            " 34  Country_RSA                   298411 non-null  bool          \n",
            " 35  Country_Saudi Arabia          298411 non-null  bool          \n",
            " 36  Country_Singapore             298411 non-null  bool          \n",
            " 37  Country_Spain                 298411 non-null  bool          \n",
            " 38  Country_Sweden                298411 non-null  bool          \n",
            " 39  Country_Switzerland           298411 non-null  bool          \n",
            " 40  Country_USA                   298411 non-null  bool          \n",
            " 41  Country_United Arab Emirates  298411 non-null  bool          \n",
            " 42  Country_United Kingdom        298411 non-null  bool          \n",
            " 43  Country_Unspecified           298411 non-null  bool          \n",
            "dtypes: bool(36), datetime64[ns](1), float64(3), int64(1), object(3)\n",
            "memory usage: 30.7+ MB\n",
            "None\n"
          ]
        }
      ]
    },
    {
      "cell_type": "code",
      "source": [
        "print(data.info())"
      ],
      "metadata": {
        "colab": {
          "base_uri": "https://localhost:8080/"
        },
        "id": "TtNVzMWAPs-Z",
        "outputId": "fa6cd8c2-4db1-440f-b1e5-f5e948844fd4"
      },
      "execution_count": 26,
      "outputs": [
        {
          "output_type": "stream",
          "name": "stdout",
          "text": [
            "<class 'pandas.core.frame.DataFrame'>\n",
            "Index: 298411 entries, 0 to 541909\n",
            "Data columns (total 44 columns):\n",
            " #   Column                        Non-Null Count   Dtype         \n",
            "---  ------                        --------------   -----         \n",
            " 0   Invoice                       298411 non-null  object        \n",
            " 1   StockCode                     298411 non-null  object        \n",
            " 2   Description                   298411 non-null  object        \n",
            " 3   Quantity                      298411 non-null  int64         \n",
            " 4   InvoiceDate                   126462 non-null  datetime64[ns]\n",
            " 5   Price                         298411 non-null  float64       \n",
            " 6   Customer ID                   298411 non-null  float64       \n",
            " 7   Revenue                       298411 non-null  float64       \n",
            " 8   Country_Austria               298411 non-null  bool          \n",
            " 9   Country_Bahrain               298411 non-null  bool          \n",
            " 10  Country_Belgium               298411 non-null  bool          \n",
            " 11  Country_Brazil                298411 non-null  bool          \n",
            " 12  Country_Canada                298411 non-null  bool          \n",
            " 13  Country_Channel Islands       298411 non-null  bool          \n",
            " 14  Country_Cyprus                298411 non-null  bool          \n",
            " 15  Country_Czech Republic        298411 non-null  bool          \n",
            " 16  Country_Denmark               298411 non-null  bool          \n",
            " 17  Country_EIRE                  298411 non-null  bool          \n",
            " 18  Country_European Community    298411 non-null  bool          \n",
            " 19  Country_Finland               298411 non-null  bool          \n",
            " 20  Country_France                298411 non-null  bool          \n",
            " 21  Country_Germany               298411 non-null  bool          \n",
            " 22  Country_Greece                298411 non-null  bool          \n",
            " 23  Country_Iceland               298411 non-null  bool          \n",
            " 24  Country_Israel                298411 non-null  bool          \n",
            " 25  Country_Italy                 298411 non-null  bool          \n",
            " 26  Country_Japan                 298411 non-null  bool          \n",
            " 27  Country_Lebanon               298411 non-null  bool          \n",
            " 28  Country_Lithuania             298411 non-null  bool          \n",
            " 29  Country_Malta                 298411 non-null  bool          \n",
            " 30  Country_Netherlands           298411 non-null  bool          \n",
            " 31  Country_Norway                298411 non-null  bool          \n",
            " 32  Country_Poland                298411 non-null  bool          \n",
            " 33  Country_Portugal              298411 non-null  bool          \n",
            " 34  Country_RSA                   298411 non-null  bool          \n",
            " 35  Country_Saudi Arabia          298411 non-null  bool          \n",
            " 36  Country_Singapore             298411 non-null  bool          \n",
            " 37  Country_Spain                 298411 non-null  bool          \n",
            " 38  Country_Sweden                298411 non-null  bool          \n",
            " 39  Country_Switzerland           298411 non-null  bool          \n",
            " 40  Country_USA                   298411 non-null  bool          \n",
            " 41  Country_United Arab Emirates  298411 non-null  bool          \n",
            " 42  Country_United Kingdom        298411 non-null  bool          \n",
            " 43  Country_Unspecified           298411 non-null  bool          \n",
            "dtypes: bool(36), datetime64[ns](1), float64(3), int64(1), object(3)\n",
            "memory usage: 30.7+ MB\n",
            "None\n"
          ]
        }
      ]
    },
    {
      "cell_type": "code",
      "source": [
        "from sklearn.impute import SimpleImputer\n",
        "from sklearn.model_selection import train_test_split\n",
        "from sklearn.tree import DecisionTreeRegressor\n",
        "from sklearn.metrics import f1_score, roc_auc_score, mean_squared_error, r2_score, confusion_matrix\n",
        "from sklearn.preprocessing import OneHotEncoder\n",
        "from sklearn.compose import ColumnTransformer\n",
        "from sklearn.pipeline import Pipeline\n",
        "import numpy as np\n",
        "\n",
        "# Assuming 'data' is already loaded and contains a 'Revenue' column\n",
        "\n",
        "# Convert datetime columns to numeric features (extract year, month, day, etc.)\n",
        "datetime_columns = data.select_dtypes(include=['datetime']).columns\n",
        "\n",
        "for col in datetime_columns:\n",
        "    data[col] = data[col].apply(lambda x: x.year * 10000 + x.month * 100 + x.day)  # Convert datetime to YYYYMMDD format\n",
        "\n",
        "# Drop the 'Invoice' column and handle missing values (if any)\n",
        "X = data.drop(columns=['Revenue', 'Invoice'])\n",
        "y = data['Revenue']\n",
        "\n",
        "# Convert revenue into binary classification (e.g., High or Low revenue)\n",
        "threshold = y.median()  # Using median revenue to categorize\n",
        "y_class = (y > threshold).astype(int)  # 1 for high, 0 for low\n",
        "\n",
        "# Identify categorical and numeric columns\n",
        "categorical_columns = X.select_dtypes(include=['object', 'bool']).columns\n",
        "numeric_columns = X.select_dtypes(include=['float64', 'int64']).columns\n",
        "\n",
        "# Create separate imputer for numeric and categorical columns\n",
        "numeric_imputer = SimpleImputer(strategy='mean')  # For numeric columns, use mean\n",
        "categorical_imputer = SimpleImputer(strategy='most_frequent')  # For categorical columns, use the most frequent value\n",
        "\n",
        "# Create a column transformer to apply different imputers for numeric and categorical features\n",
        "preprocessor = ColumnTransformer(\n",
        "    transformers=[\n",
        "        ('num', numeric_imputer, numeric_columns),  # Apply numeric imputer to numeric columns\n",
        "        ('cat', Pipeline([\n",
        "            ('imputer', categorical_imputer),  # Impute missing categorical values\n",
        "            ('onehot', OneHotEncoder(handle_unknown='ignore'))  # Apply OneHotEncoder to categorical columns\n",
        "        ]), categorical_columns)\n",
        "    ],\n",
        "    remainder='passthrough'  # Keep the rest of the columns as is (e.g., datetime)\n",
        ")\n",
        "\n",
        "# Create a pipeline that first imputes missing values, preprocesses the data, and then fits the model\n",
        "pipeline = Pipeline(steps=[\n",
        "    ('preprocessor', preprocessor),  # Handle missing data and apply transformations\n",
        "    ('model', DecisionTreeRegressor(random_state=42))  # Fit the decision tree regressor\n",
        "])\n",
        "\n",
        "# Split the data into training and testing sets\n",
        "X_train, X_test, y_train, y_test = train_test_split(X, y_class, test_size=0.2, random_state=42)\n",
        "\n",
        "# Train the model\n",
        "pipeline.fit(X_train, y_train)\n",
        "\n",
        "# Make predictions on the test set\n",
        "y_pred = pipeline.predict(X_test)\n",
        "\n",
        "# Convert predictions to binary (since we are performing a binary classification task)\n",
        "y_pred_binary = (y_pred > 0.5).astype(int)  # Assuming 0.5 as the threshold\n",
        "\n",
        "# Calculate F1-Score\n",
        "f1 = f1_score(y_test, y_pred_binary)\n",
        "print(f\"F1-score: {f1:.2f}\")\n",
        "\n",
        "# Calculate ROC AUC Score\n",
        "roc_auc = roc_auc_score(y_test, y_pred_binary)\n",
        "print(f\"ROC AUC Score: {roc_auc:.2f}\")\n",
        "\n",
        "# Calculate Mean Squared Error (MSE)\n",
        "mse = mean_squared_error(y_test, y_pred)\n",
        "print(f\"Mean Squared Error: {mse}\")\n",
        "\n",
        "# Calculate Root Mean Squared Error (RMSE)\n",
        "rmse = np.sqrt(mse)\n",
        "print(f\"Root Mean Squared Error: {rmse}\")\n",
        "\n",
        "# Calculate R-squared (R²) score\n",
        "r2 = r2_score(y_test, y_pred)\n",
        "print(f\"R-squared: {r2}\")\n",
        "\n",
        "# Calculate \"accuracy\" (percentage of variance explained)\n",
        "accuracy = r2 * 100  # R² as a percentage\n",
        "print(f\"Accuracy: {accuracy:.2f}%\")\n",
        "\n",
        "# Confusion Matrix\n",
        "conf_matrix = confusion_matrix(y_test, y_pred_binary)\n",
        "print(\"Confusion Matrix:\")\n",
        "print(conf_matrix)\n",
        "\n",
        "# You can also check a few predictions to verify\n",
        "print(\"Predictions:\", y_pred[:5])  # Print first 5 predictions"
      ],
      "metadata": {
        "colab": {
          "base_uri": "https://localhost:8080/"
        },
        "id": "LYavXyOdPvOf",
        "outputId": "8ad66da0-de11-431f-988a-cca7c43602f1"
      },
      "execution_count": 27,
      "outputs": [
        {
          "output_type": "stream",
          "name": "stdout",
          "text": [
            "F1-score: 1.00\n",
            "ROC AUC Score: 1.00\n",
            "Mean Squared Error: 0.0\n",
            "Root Mean Squared Error: 0.0\n",
            "R-squared: 1.0\n",
            "Accuracy: 100.00%\n",
            "Confusion Matrix:\n",
            "[[32524     0]\n",
            " [    0 27159]]\n",
            "Predictions: [1. 1. 0. 0. 1.]\n"
          ]
        }
      ]
    },
    {
      "cell_type": "code",
      "source": [
        "print(data.columns)"
      ],
      "metadata": {
        "colab": {
          "base_uri": "https://localhost:8080/"
        },
        "id": "B0WVwzieP0y1",
        "outputId": "d76beede-cf65-417c-824b-b38fbe364908"
      },
      "execution_count": 28,
      "outputs": [
        {
          "output_type": "stream",
          "name": "stdout",
          "text": [
            "Index(['Invoice', 'StockCode', 'Description', 'Quantity', 'InvoiceDate',\n",
            "       'Price', 'Customer ID', 'Revenue', 'Country_Austria', 'Country_Bahrain',\n",
            "       'Country_Belgium', 'Country_Brazil', 'Country_Canada',\n",
            "       'Country_Channel Islands', 'Country_Cyprus', 'Country_Czech Republic',\n",
            "       'Country_Denmark', 'Country_EIRE', 'Country_European Community',\n",
            "       'Country_Finland', 'Country_France', 'Country_Germany',\n",
            "       'Country_Greece', 'Country_Iceland', 'Country_Israel', 'Country_Italy',\n",
            "       'Country_Japan', 'Country_Lebanon', 'Country_Lithuania',\n",
            "       'Country_Malta', 'Country_Netherlands', 'Country_Norway',\n",
            "       'Country_Poland', 'Country_Portugal', 'Country_RSA',\n",
            "       'Country_Saudi Arabia', 'Country_Singapore', 'Country_Spain',\n",
            "       'Country_Sweden', 'Country_Switzerland', 'Country_USA',\n",
            "       'Country_United Arab Emirates', 'Country_United Kingdom',\n",
            "       'Country_Unspecified'],\n",
            "      dtype='object')\n"
          ]
        }
      ]
    },
    {
      "cell_type": "code",
      "source": [
        "data.columns = data.columns.str.strip()  # Remove any leading/trailing spaces\n",
        "data.columns = data.columns.str.lower()  # Convert all column names to lowercase"
      ],
      "metadata": {
        "id": "CYaEG76qP3fZ"
      },
      "execution_count": 29,
      "outputs": []
    },
    {
      "cell_type": "code",
      "source": [
        "print(data.columns)"
      ],
      "metadata": {
        "colab": {
          "base_uri": "https://localhost:8080/"
        },
        "id": "a9ndvq2xP727",
        "outputId": "90bd2acd-309b-4556-bef7-3ebac48f5ec6"
      },
      "execution_count": 30,
      "outputs": [
        {
          "output_type": "stream",
          "name": "stdout",
          "text": [
            "Index(['invoice', 'stockcode', 'description', 'quantity', 'invoicedate',\n",
            "       'price', 'customer id', 'revenue', 'country_austria', 'country_bahrain',\n",
            "       'country_belgium', 'country_brazil', 'country_canada',\n",
            "       'country_channel islands', 'country_cyprus', 'country_czech republic',\n",
            "       'country_denmark', 'country_eire', 'country_european community',\n",
            "       'country_finland', 'country_france', 'country_germany',\n",
            "       'country_greece', 'country_iceland', 'country_israel', 'country_italy',\n",
            "       'country_japan', 'country_lebanon', 'country_lithuania',\n",
            "       'country_malta', 'country_netherlands', 'country_norway',\n",
            "       'country_poland', 'country_portugal', 'country_rsa',\n",
            "       'country_saudi arabia', 'country_singapore', 'country_spain',\n",
            "       'country_sweden', 'country_switzerland', 'country_usa',\n",
            "       'country_united arab emirates', 'country_united kingdom',\n",
            "       'country_unspecified'],\n",
            "      dtype='object')\n"
          ]
        }
      ]
    },
    {
      "cell_type": "code",
      "source": [
        "data['Revenue'] = data['quantity'] * data['price']"
      ],
      "metadata": {
        "id": "xSFufQn1P95R"
      },
      "execution_count": 31,
      "outputs": []
    },
    {
      "cell_type": "code",
      "source": [
        "print(data.columns)"
      ],
      "metadata": {
        "colab": {
          "base_uri": "https://localhost:8080/"
        },
        "id": "i91MKunzQBLX",
        "outputId": "5ba4a85a-c0fc-4e84-a0e1-cf331027c7c5"
      },
      "execution_count": 32,
      "outputs": [
        {
          "output_type": "stream",
          "name": "stdout",
          "text": [
            "Index(['invoice', 'stockcode', 'description', 'quantity', 'invoicedate',\n",
            "       'price', 'customer id', 'revenue', 'country_austria', 'country_bahrain',\n",
            "       'country_belgium', 'country_brazil', 'country_canada',\n",
            "       'country_channel islands', 'country_cyprus', 'country_czech republic',\n",
            "       'country_denmark', 'country_eire', 'country_european community',\n",
            "       'country_finland', 'country_france', 'country_germany',\n",
            "       'country_greece', 'country_iceland', 'country_israel', 'country_italy',\n",
            "       'country_japan', 'country_lebanon', 'country_lithuania',\n",
            "       'country_malta', 'country_netherlands', 'country_norway',\n",
            "       'country_poland', 'country_portugal', 'country_rsa',\n",
            "       'country_saudi arabia', 'country_singapore', 'country_spain',\n",
            "       'country_sweden', 'country_switzerland', 'country_usa',\n",
            "       'country_united arab emirates', 'country_united kingdom',\n",
            "       'country_unspecified', 'Revenue'],\n",
            "      dtype='object')\n"
          ]
        }
      ]
    },
    {
      "cell_type": "code",
      "source": [
        "# Define the features (X) and target (y)\n",
        "X = data.drop(columns=['Revenue'])  # Exclude 'Revenue' column from features\n",
        "y = data['Revenue']  # 'Revenue' is the target variable"
      ],
      "metadata": {
        "id": "PUW3Nh38QDEe"
      },
      "execution_count": 33,
      "outputs": []
    },
    {
      "cell_type": "code",
      "source": [
        "import pandas as pd\n",
        "from sklearn.model_selection import train_test_split\n",
        "from sklearn.ensemble import RandomForestRegressor\n",
        "from sklearn.metrics import mean_squared_error, mean_absolute_error, explained_variance_score, precision_score\n",
        "import numpy as np\n",
        "from sklearn.preprocessing import OneHotEncoder\n",
        "from sklearn.impute import SimpleImputer\n",
        "from sklearn.compose import ColumnTransformer\n",
        "from sklearn.pipeline import Pipeline\n",
        "\n",
        "# Load the data\n",
        "data = pd.read_csv('online_retail.csv', encoding='ISO-8859-1')\n",
        "\n",
        "# Create Revenue column\n",
        "data['Revenue'] = data['Quantity'] * data['Price']\n",
        "\n",
        "# Define the features (X) and target (y)\n",
        "X = data.drop(columns=['Revenue'])\n",
        "y = data['Revenue']"
      ],
      "metadata": {
        "id": "BxSbJnZ5QFXW"
      },
      "execution_count": 34,
      "outputs": []
    },
    {
      "cell_type": "code",
      "source": [
        "# Identify non-numeric columns\n",
        "non_numeric_columns = X.select_dtypes(include=['object', 'bool']).columns"
      ],
      "metadata": {
        "id": "UfLamZtLQHR1"
      },
      "execution_count": 35,
      "outputs": []
    },
    {
      "cell_type": "code",
      "source": [
        "# Create a preprocessor for handling missing values and encoding\n",
        "preprocessor = ColumnTransformer(\n",
        "    transformers=[\n",
        "        ('cat', Pipeline(steps=[\n",
        "            ('imputer', SimpleImputer(strategy='most_frequent')),  # Impute missing categorical values\n",
        "            ('encoder', OneHotEncoder(handle_unknown='ignore'))  # OneHotEncoder for categorical columns\n",
        "        ]), non_numeric_columns),\n",
        "\n",
        "        ('num', Pipeline(steps=[\n",
        "            ('imputer', SimpleImputer(strategy='mean')),  # Impute missing numerical values\n",
        "            ('passthrough', 'passthrough')  # Keep numeric columns as is\n",
        "        ]), X.select_dtypes(include=['float64', 'int64']).columns)\n",
        "    ]\n",
        ")\n"
      ],
      "metadata": {
        "id": "RFp0F-avQKGS"
      },
      "execution_count": 36,
      "outputs": []
    },
    {
      "cell_type": "code",
      "source": [
        "import pandas as pd\n",
        "from sklearn.model_selection import train_test_split\n",
        "from sklearn.ensemble import RandomForestRegressor\n",
        "from sklearn.metrics import mean_squared_error, mean_absolute_error, explained_variance_score\n",
        "import numpy as np\n",
        "from sklearn.preprocessing import OneHotEncoder\n",
        "from sklearn.impute import SimpleImputer\n",
        "from sklearn.compose import ColumnTransformer\n",
        "from sklearn.pipeline import Pipeline\n",
        "\n",
        "# Load the data\n",
        "data = pd.read_csv('online_retail.csv', encoding='ISO-8859-1')\n",
        "\n",
        "# Drop rows with critical missing values\n",
        "data = data.dropna(subset=['Price', 'Quantity'])\n",
        "\n",
        "# Fill missing Customer IDs with a default value (e.g., 0)\n",
        "data['Customer ID'] = data['Customer ID'].fillna(0)\n",
        "\n",
        "# Create Revenue column\n",
        "data['Revenue'] = data['Quantity'] * data['Price']\n",
        "\n",
        "# Sample the data for faster processing (optional, remove in production)\n",
        "data = data.sample(frac=0.1, random_state=42)\n",
        "\n",
        "# Define the features (X) and target (y)\n",
        "X = data.drop(columns=['Revenue', 'Invoice', 'StockCode', 'Description', 'InvoiceDate'])\n",
        "y = data['Revenue']\n",
        "\n",
        "# Identify non-numeric columns for preprocessing\n",
        "non_numeric_columns = X.select_dtypes(include=['object']).columns\n",
        "\n",
        "# Create a preprocessor for handling missing values and encoding\n",
        "preprocessor = ColumnTransformer(\n",
        "    transformers=[\n",
        "        ('cat', Pipeline(steps=[\n",
        "            ('imputer', SimpleImputer(strategy='most_frequent')),\n",
        "            ('encoder', OneHotEncoder(handle_unknown='ignore'))\n",
        "        ]), non_numeric_columns),\n",
        "\n",
        "        ('num', Pipeline(steps=[\n",
        "            ('imputer', SimpleImputer(strategy='mean'))\n",
        "        ]), X.select_dtypes(include=['float64', 'int64']).columns)\n",
        "    ]\n",
        ")\n",
        "\n",
        "# Split the data\n",
        "X_train, X_test, y_train, y_test = train_test_split(X, y, test_size=0.2, random_state=42)\n",
        "\n",
        "# Create a pipeline that preprocesses the data and then fits the model\n",
        "pipeline = Pipeline(steps=[\n",
        "    ('preprocessor', preprocessor),\n",
        "    ('model', RandomForestRegressor(n_estimators=100, random_state=42))\n",
        "])\n",
        "\n",
        "# Train the model\n",
        "pipeline.fit(X_train, y_train)\n",
        "\n",
        "# Evaluate the model\n",
        "y_pred = pipeline.predict(X_test)\n",
        "mse = mean_squared_error(y_test, y_pred)\n",
        "mae = mean_absolute_error(y_test, y_pred)\n",
        "explained_var = explained_variance_score(y_test, y_pred)\n",
        "\n",
        "print(f\"Mean Squared Error: {mse}\")\n",
        "print(f\"Mean Absolute Error: {mae}\")\n",
        "print(f\"Explained Variance Score: {explained_var}\")\n"
      ],
      "metadata": {
        "colab": {
          "base_uri": "https://localhost:8080/"
        },
        "id": "wmK2q1mTQaUT",
        "outputId": "d7a87dbf-3f5a-45b5-85d8-cdf11dbb3756"
      },
      "execution_count": 37,
      "outputs": [
        {
          "output_type": "stream",
          "name": "stdout",
          "text": [
            "Mean Squared Error: 2422.5175776061747\n",
            "Mean Absolute Error: 1.344803921025938\n",
            "Explained Variance Score: 0.7209480274805941\n"
          ]
        }
      ]
    },
    {
      "cell_type": "code",
      "source": [
        "# Split the dataset into training and testing sets\n",
        "X_train, X_test, y_train, y_test = train_test_split(X, y, test_size=0.2, random_state=42)\n",
        "\n",
        "# Train the model\n",
        "pipeline.fit(X_train, y_train)"
      ],
      "metadata": {
        "colab": {
          "base_uri": "https://localhost:8080/",
          "height": 286
        },
        "id": "mTrbIVMAQg4F",
        "outputId": "1e596388-ff0c-44d2-e5be-cb95ce146b3c"
      },
      "execution_count": 38,
      "outputs": [
        {
          "output_type": "execute_result",
          "data": {
            "text/plain": [
              "Pipeline(steps=[('preprocessor',\n",
              "                 ColumnTransformer(transformers=[('cat',\n",
              "                                                  Pipeline(steps=[('imputer',\n",
              "                                                                   SimpleImputer(strategy='most_frequent')),\n",
              "                                                                  ('encoder',\n",
              "                                                                   OneHotEncoder(handle_unknown='ignore'))]),\n",
              "                                                  Index(['Country'], dtype='object')),\n",
              "                                                 ('num',\n",
              "                                                  Pipeline(steps=[('imputer',\n",
              "                                                                   SimpleImputer())]),\n",
              "                                                  Index(['Quantity', 'Price', 'Customer ID'], dtype='object'))])),\n",
              "                ('model', RandomForestRegressor(random_state=42))])"
            ],
            "text/html": [
              "<style>#sk-container-id-1 {\n",
              "  /* Definition of color scheme common for light and dark mode */\n",
              "  --sklearn-color-text: #000;\n",
              "  --sklearn-color-text-muted: #666;\n",
              "  --sklearn-color-line: gray;\n",
              "  /* Definition of color scheme for unfitted estimators */\n",
              "  --sklearn-color-unfitted-level-0: #fff5e6;\n",
              "  --sklearn-color-unfitted-level-1: #f6e4d2;\n",
              "  --sklearn-color-unfitted-level-2: #ffe0b3;\n",
              "  --sklearn-color-unfitted-level-3: chocolate;\n",
              "  /* Definition of color scheme for fitted estimators */\n",
              "  --sklearn-color-fitted-level-0: #f0f8ff;\n",
              "  --sklearn-color-fitted-level-1: #d4ebff;\n",
              "  --sklearn-color-fitted-level-2: #b3dbfd;\n",
              "  --sklearn-color-fitted-level-3: cornflowerblue;\n",
              "\n",
              "  /* Specific color for light theme */\n",
              "  --sklearn-color-text-on-default-background: var(--sg-text-color, var(--theme-code-foreground, var(--jp-content-font-color1, black)));\n",
              "  --sklearn-color-background: var(--sg-background-color, var(--theme-background, var(--jp-layout-color0, white)));\n",
              "  --sklearn-color-border-box: var(--sg-text-color, var(--theme-code-foreground, var(--jp-content-font-color1, black)));\n",
              "  --sklearn-color-icon: #696969;\n",
              "\n",
              "  @media (prefers-color-scheme: dark) {\n",
              "    /* Redefinition of color scheme for dark theme */\n",
              "    --sklearn-color-text-on-default-background: var(--sg-text-color, var(--theme-code-foreground, var(--jp-content-font-color1, white)));\n",
              "    --sklearn-color-background: var(--sg-background-color, var(--theme-background, var(--jp-layout-color0, #111)));\n",
              "    --sklearn-color-border-box: var(--sg-text-color, var(--theme-code-foreground, var(--jp-content-font-color1, white)));\n",
              "    --sklearn-color-icon: #878787;\n",
              "  }\n",
              "}\n",
              "\n",
              "#sk-container-id-1 {\n",
              "  color: var(--sklearn-color-text);\n",
              "}\n",
              "\n",
              "#sk-container-id-1 pre {\n",
              "  padding: 0;\n",
              "}\n",
              "\n",
              "#sk-container-id-1 input.sk-hidden--visually {\n",
              "  border: 0;\n",
              "  clip: rect(1px 1px 1px 1px);\n",
              "  clip: rect(1px, 1px, 1px, 1px);\n",
              "  height: 1px;\n",
              "  margin: -1px;\n",
              "  overflow: hidden;\n",
              "  padding: 0;\n",
              "  position: absolute;\n",
              "  width: 1px;\n",
              "}\n",
              "\n",
              "#sk-container-id-1 div.sk-dashed-wrapped {\n",
              "  border: 1px dashed var(--sklearn-color-line);\n",
              "  margin: 0 0.4em 0.5em 0.4em;\n",
              "  box-sizing: border-box;\n",
              "  padding-bottom: 0.4em;\n",
              "  background-color: var(--sklearn-color-background);\n",
              "}\n",
              "\n",
              "#sk-container-id-1 div.sk-container {\n",
              "  /* jupyter's `normalize.less` sets `[hidden] { display: none; }`\n",
              "     but bootstrap.min.css set `[hidden] { display: none !important; }`\n",
              "     so we also need the `!important` here to be able to override the\n",
              "     default hidden behavior on the sphinx rendered scikit-learn.org.\n",
              "     See: https://github.com/scikit-learn/scikit-learn/issues/21755 */\n",
              "  display: inline-block !important;\n",
              "  position: relative;\n",
              "}\n",
              "\n",
              "#sk-container-id-1 div.sk-text-repr-fallback {\n",
              "  display: none;\n",
              "}\n",
              "\n",
              "div.sk-parallel-item,\n",
              "div.sk-serial,\n",
              "div.sk-item {\n",
              "  /* draw centered vertical line to link estimators */\n",
              "  background-image: linear-gradient(var(--sklearn-color-text-on-default-background), var(--sklearn-color-text-on-default-background));\n",
              "  background-size: 2px 100%;\n",
              "  background-repeat: no-repeat;\n",
              "  background-position: center center;\n",
              "}\n",
              "\n",
              "/* Parallel-specific style estimator block */\n",
              "\n",
              "#sk-container-id-1 div.sk-parallel-item::after {\n",
              "  content: \"\";\n",
              "  width: 100%;\n",
              "  border-bottom: 2px solid var(--sklearn-color-text-on-default-background);\n",
              "  flex-grow: 1;\n",
              "}\n",
              "\n",
              "#sk-container-id-1 div.sk-parallel {\n",
              "  display: flex;\n",
              "  align-items: stretch;\n",
              "  justify-content: center;\n",
              "  background-color: var(--sklearn-color-background);\n",
              "  position: relative;\n",
              "}\n",
              "\n",
              "#sk-container-id-1 div.sk-parallel-item {\n",
              "  display: flex;\n",
              "  flex-direction: column;\n",
              "}\n",
              "\n",
              "#sk-container-id-1 div.sk-parallel-item:first-child::after {\n",
              "  align-self: flex-end;\n",
              "  width: 50%;\n",
              "}\n",
              "\n",
              "#sk-container-id-1 div.sk-parallel-item:last-child::after {\n",
              "  align-self: flex-start;\n",
              "  width: 50%;\n",
              "}\n",
              "\n",
              "#sk-container-id-1 div.sk-parallel-item:only-child::after {\n",
              "  width: 0;\n",
              "}\n",
              "\n",
              "/* Serial-specific style estimator block */\n",
              "\n",
              "#sk-container-id-1 div.sk-serial {\n",
              "  display: flex;\n",
              "  flex-direction: column;\n",
              "  align-items: center;\n",
              "  background-color: var(--sklearn-color-background);\n",
              "  padding-right: 1em;\n",
              "  padding-left: 1em;\n",
              "}\n",
              "\n",
              "\n",
              "/* Toggleable style: style used for estimator/Pipeline/ColumnTransformer box that is\n",
              "clickable and can be expanded/collapsed.\n",
              "- Pipeline and ColumnTransformer use this feature and define the default style\n",
              "- Estimators will overwrite some part of the style using the `sk-estimator` class\n",
              "*/\n",
              "\n",
              "/* Pipeline and ColumnTransformer style (default) */\n",
              "\n",
              "#sk-container-id-1 div.sk-toggleable {\n",
              "  /* Default theme specific background. It is overwritten whether we have a\n",
              "  specific estimator or a Pipeline/ColumnTransformer */\n",
              "  background-color: var(--sklearn-color-background);\n",
              "}\n",
              "\n",
              "/* Toggleable label */\n",
              "#sk-container-id-1 label.sk-toggleable__label {\n",
              "  cursor: pointer;\n",
              "  display: flex;\n",
              "  width: 100%;\n",
              "  margin-bottom: 0;\n",
              "  padding: 0.5em;\n",
              "  box-sizing: border-box;\n",
              "  text-align: center;\n",
              "  align-items: start;\n",
              "  justify-content: space-between;\n",
              "  gap: 0.5em;\n",
              "}\n",
              "\n",
              "#sk-container-id-1 label.sk-toggleable__label .caption {\n",
              "  font-size: 0.6rem;\n",
              "  font-weight: lighter;\n",
              "  color: var(--sklearn-color-text-muted);\n",
              "}\n",
              "\n",
              "#sk-container-id-1 label.sk-toggleable__label-arrow:before {\n",
              "  /* Arrow on the left of the label */\n",
              "  content: \"▸\";\n",
              "  float: left;\n",
              "  margin-right: 0.25em;\n",
              "  color: var(--sklearn-color-icon);\n",
              "}\n",
              "\n",
              "#sk-container-id-1 label.sk-toggleable__label-arrow:hover:before {\n",
              "  color: var(--sklearn-color-text);\n",
              "}\n",
              "\n",
              "/* Toggleable content - dropdown */\n",
              "\n",
              "#sk-container-id-1 div.sk-toggleable__content {\n",
              "  max-height: 0;\n",
              "  max-width: 0;\n",
              "  overflow: hidden;\n",
              "  text-align: left;\n",
              "  /* unfitted */\n",
              "  background-color: var(--sklearn-color-unfitted-level-0);\n",
              "}\n",
              "\n",
              "#sk-container-id-1 div.sk-toggleable__content.fitted {\n",
              "  /* fitted */\n",
              "  background-color: var(--sklearn-color-fitted-level-0);\n",
              "}\n",
              "\n",
              "#sk-container-id-1 div.sk-toggleable__content pre {\n",
              "  margin: 0.2em;\n",
              "  border-radius: 0.25em;\n",
              "  color: var(--sklearn-color-text);\n",
              "  /* unfitted */\n",
              "  background-color: var(--sklearn-color-unfitted-level-0);\n",
              "}\n",
              "\n",
              "#sk-container-id-1 div.sk-toggleable__content.fitted pre {\n",
              "  /* unfitted */\n",
              "  background-color: var(--sklearn-color-fitted-level-0);\n",
              "}\n",
              "\n",
              "#sk-container-id-1 input.sk-toggleable__control:checked~div.sk-toggleable__content {\n",
              "  /* Expand drop-down */\n",
              "  max-height: 200px;\n",
              "  max-width: 100%;\n",
              "  overflow: auto;\n",
              "}\n",
              "\n",
              "#sk-container-id-1 input.sk-toggleable__control:checked~label.sk-toggleable__label-arrow:before {\n",
              "  content: \"▾\";\n",
              "}\n",
              "\n",
              "/* Pipeline/ColumnTransformer-specific style */\n",
              "\n",
              "#sk-container-id-1 div.sk-label input.sk-toggleable__control:checked~label.sk-toggleable__label {\n",
              "  color: var(--sklearn-color-text);\n",
              "  background-color: var(--sklearn-color-unfitted-level-2);\n",
              "}\n",
              "\n",
              "#sk-container-id-1 div.sk-label.fitted input.sk-toggleable__control:checked~label.sk-toggleable__label {\n",
              "  background-color: var(--sklearn-color-fitted-level-2);\n",
              "}\n",
              "\n",
              "/* Estimator-specific style */\n",
              "\n",
              "/* Colorize estimator box */\n",
              "#sk-container-id-1 div.sk-estimator input.sk-toggleable__control:checked~label.sk-toggleable__label {\n",
              "  /* unfitted */\n",
              "  background-color: var(--sklearn-color-unfitted-level-2);\n",
              "}\n",
              "\n",
              "#sk-container-id-1 div.sk-estimator.fitted input.sk-toggleable__control:checked~label.sk-toggleable__label {\n",
              "  /* fitted */\n",
              "  background-color: var(--sklearn-color-fitted-level-2);\n",
              "}\n",
              "\n",
              "#sk-container-id-1 div.sk-label label.sk-toggleable__label,\n",
              "#sk-container-id-1 div.sk-label label {\n",
              "  /* The background is the default theme color */\n",
              "  color: var(--sklearn-color-text-on-default-background);\n",
              "}\n",
              "\n",
              "/* On hover, darken the color of the background */\n",
              "#sk-container-id-1 div.sk-label:hover label.sk-toggleable__label {\n",
              "  color: var(--sklearn-color-text);\n",
              "  background-color: var(--sklearn-color-unfitted-level-2);\n",
              "}\n",
              "\n",
              "/* Label box, darken color on hover, fitted */\n",
              "#sk-container-id-1 div.sk-label.fitted:hover label.sk-toggleable__label.fitted {\n",
              "  color: var(--sklearn-color-text);\n",
              "  background-color: var(--sklearn-color-fitted-level-2);\n",
              "}\n",
              "\n",
              "/* Estimator label */\n",
              "\n",
              "#sk-container-id-1 div.sk-label label {\n",
              "  font-family: monospace;\n",
              "  font-weight: bold;\n",
              "  display: inline-block;\n",
              "  line-height: 1.2em;\n",
              "}\n",
              "\n",
              "#sk-container-id-1 div.sk-label-container {\n",
              "  text-align: center;\n",
              "}\n",
              "\n",
              "/* Estimator-specific */\n",
              "#sk-container-id-1 div.sk-estimator {\n",
              "  font-family: monospace;\n",
              "  border: 1px dotted var(--sklearn-color-border-box);\n",
              "  border-radius: 0.25em;\n",
              "  box-sizing: border-box;\n",
              "  margin-bottom: 0.5em;\n",
              "  /* unfitted */\n",
              "  background-color: var(--sklearn-color-unfitted-level-0);\n",
              "}\n",
              "\n",
              "#sk-container-id-1 div.sk-estimator.fitted {\n",
              "  /* fitted */\n",
              "  background-color: var(--sklearn-color-fitted-level-0);\n",
              "}\n",
              "\n",
              "/* on hover */\n",
              "#sk-container-id-1 div.sk-estimator:hover {\n",
              "  /* unfitted */\n",
              "  background-color: var(--sklearn-color-unfitted-level-2);\n",
              "}\n",
              "\n",
              "#sk-container-id-1 div.sk-estimator.fitted:hover {\n",
              "  /* fitted */\n",
              "  background-color: var(--sklearn-color-fitted-level-2);\n",
              "}\n",
              "\n",
              "/* Specification for estimator info (e.g. \"i\" and \"?\") */\n",
              "\n",
              "/* Common style for \"i\" and \"?\" */\n",
              "\n",
              ".sk-estimator-doc-link,\n",
              "a:link.sk-estimator-doc-link,\n",
              "a:visited.sk-estimator-doc-link {\n",
              "  float: right;\n",
              "  font-size: smaller;\n",
              "  line-height: 1em;\n",
              "  font-family: monospace;\n",
              "  background-color: var(--sklearn-color-background);\n",
              "  border-radius: 1em;\n",
              "  height: 1em;\n",
              "  width: 1em;\n",
              "  text-decoration: none !important;\n",
              "  margin-left: 0.5em;\n",
              "  text-align: center;\n",
              "  /* unfitted */\n",
              "  border: var(--sklearn-color-unfitted-level-1) 1pt solid;\n",
              "  color: var(--sklearn-color-unfitted-level-1);\n",
              "}\n",
              "\n",
              ".sk-estimator-doc-link.fitted,\n",
              "a:link.sk-estimator-doc-link.fitted,\n",
              "a:visited.sk-estimator-doc-link.fitted {\n",
              "  /* fitted */\n",
              "  border: var(--sklearn-color-fitted-level-1) 1pt solid;\n",
              "  color: var(--sklearn-color-fitted-level-1);\n",
              "}\n",
              "\n",
              "/* On hover */\n",
              "div.sk-estimator:hover .sk-estimator-doc-link:hover,\n",
              ".sk-estimator-doc-link:hover,\n",
              "div.sk-label-container:hover .sk-estimator-doc-link:hover,\n",
              ".sk-estimator-doc-link:hover {\n",
              "  /* unfitted */\n",
              "  background-color: var(--sklearn-color-unfitted-level-3);\n",
              "  color: var(--sklearn-color-background);\n",
              "  text-decoration: none;\n",
              "}\n",
              "\n",
              "div.sk-estimator.fitted:hover .sk-estimator-doc-link.fitted:hover,\n",
              ".sk-estimator-doc-link.fitted:hover,\n",
              "div.sk-label-container:hover .sk-estimator-doc-link.fitted:hover,\n",
              ".sk-estimator-doc-link.fitted:hover {\n",
              "  /* fitted */\n",
              "  background-color: var(--sklearn-color-fitted-level-3);\n",
              "  color: var(--sklearn-color-background);\n",
              "  text-decoration: none;\n",
              "}\n",
              "\n",
              "/* Span, style for the box shown on hovering the info icon */\n",
              ".sk-estimator-doc-link span {\n",
              "  display: none;\n",
              "  z-index: 9999;\n",
              "  position: relative;\n",
              "  font-weight: normal;\n",
              "  right: .2ex;\n",
              "  padding: .5ex;\n",
              "  margin: .5ex;\n",
              "  width: min-content;\n",
              "  min-width: 20ex;\n",
              "  max-width: 50ex;\n",
              "  color: var(--sklearn-color-text);\n",
              "  box-shadow: 2pt 2pt 4pt #999;\n",
              "  /* unfitted */\n",
              "  background: var(--sklearn-color-unfitted-level-0);\n",
              "  border: .5pt solid var(--sklearn-color-unfitted-level-3);\n",
              "}\n",
              "\n",
              ".sk-estimator-doc-link.fitted span {\n",
              "  /* fitted */\n",
              "  background: var(--sklearn-color-fitted-level-0);\n",
              "  border: var(--sklearn-color-fitted-level-3);\n",
              "}\n",
              "\n",
              ".sk-estimator-doc-link:hover span {\n",
              "  display: block;\n",
              "}\n",
              "\n",
              "/* \"?\"-specific style due to the `<a>` HTML tag */\n",
              "\n",
              "#sk-container-id-1 a.estimator_doc_link {\n",
              "  float: right;\n",
              "  font-size: 1rem;\n",
              "  line-height: 1em;\n",
              "  font-family: monospace;\n",
              "  background-color: var(--sklearn-color-background);\n",
              "  border-radius: 1rem;\n",
              "  height: 1rem;\n",
              "  width: 1rem;\n",
              "  text-decoration: none;\n",
              "  /* unfitted */\n",
              "  color: var(--sklearn-color-unfitted-level-1);\n",
              "  border: var(--sklearn-color-unfitted-level-1) 1pt solid;\n",
              "}\n",
              "\n",
              "#sk-container-id-1 a.estimator_doc_link.fitted {\n",
              "  /* fitted */\n",
              "  border: var(--sklearn-color-fitted-level-1) 1pt solid;\n",
              "  color: var(--sklearn-color-fitted-level-1);\n",
              "}\n",
              "\n",
              "/* On hover */\n",
              "#sk-container-id-1 a.estimator_doc_link:hover {\n",
              "  /* unfitted */\n",
              "  background-color: var(--sklearn-color-unfitted-level-3);\n",
              "  color: var(--sklearn-color-background);\n",
              "  text-decoration: none;\n",
              "}\n",
              "\n",
              "#sk-container-id-1 a.estimator_doc_link.fitted:hover {\n",
              "  /* fitted */\n",
              "  background-color: var(--sklearn-color-fitted-level-3);\n",
              "}\n",
              "</style><div id=\"sk-container-id-1\" class=\"sk-top-container\"><div class=\"sk-text-repr-fallback\"><pre>Pipeline(steps=[(&#x27;preprocessor&#x27;,\n",
              "                 ColumnTransformer(transformers=[(&#x27;cat&#x27;,\n",
              "                                                  Pipeline(steps=[(&#x27;imputer&#x27;,\n",
              "                                                                   SimpleImputer(strategy=&#x27;most_frequent&#x27;)),\n",
              "                                                                  (&#x27;encoder&#x27;,\n",
              "                                                                   OneHotEncoder(handle_unknown=&#x27;ignore&#x27;))]),\n",
              "                                                  Index([&#x27;Country&#x27;], dtype=&#x27;object&#x27;)),\n",
              "                                                 (&#x27;num&#x27;,\n",
              "                                                  Pipeline(steps=[(&#x27;imputer&#x27;,\n",
              "                                                                   SimpleImputer())]),\n",
              "                                                  Index([&#x27;Quantity&#x27;, &#x27;Price&#x27;, &#x27;Customer ID&#x27;], dtype=&#x27;object&#x27;))])),\n",
              "                (&#x27;model&#x27;, RandomForestRegressor(random_state=42))])</pre><b>In a Jupyter environment, please rerun this cell to show the HTML representation or trust the notebook. <br />On GitHub, the HTML representation is unable to render, please try loading this page with nbviewer.org.</b></div><div class=\"sk-container\" hidden><div class=\"sk-item sk-dashed-wrapped\"><div class=\"sk-label-container\"><div class=\"sk-label fitted sk-toggleable\"><input class=\"sk-toggleable__control sk-hidden--visually\" id=\"sk-estimator-id-1\" type=\"checkbox\" ><label for=\"sk-estimator-id-1\" class=\"sk-toggleable__label fitted sk-toggleable__label-arrow\"><div><div>Pipeline</div></div><div><a class=\"sk-estimator-doc-link fitted\" rel=\"noreferrer\" target=\"_blank\" href=\"https://scikit-learn.org/1.6/modules/generated/sklearn.pipeline.Pipeline.html\">?<span>Documentation for Pipeline</span></a><span class=\"sk-estimator-doc-link fitted\">i<span>Fitted</span></span></div></label><div class=\"sk-toggleable__content fitted\"><pre>Pipeline(steps=[(&#x27;preprocessor&#x27;,\n",
              "                 ColumnTransformer(transformers=[(&#x27;cat&#x27;,\n",
              "                                                  Pipeline(steps=[(&#x27;imputer&#x27;,\n",
              "                                                                   SimpleImputer(strategy=&#x27;most_frequent&#x27;)),\n",
              "                                                                  (&#x27;encoder&#x27;,\n",
              "                                                                   OneHotEncoder(handle_unknown=&#x27;ignore&#x27;))]),\n",
              "                                                  Index([&#x27;Country&#x27;], dtype=&#x27;object&#x27;)),\n",
              "                                                 (&#x27;num&#x27;,\n",
              "                                                  Pipeline(steps=[(&#x27;imputer&#x27;,\n",
              "                                                                   SimpleImputer())]),\n",
              "                                                  Index([&#x27;Quantity&#x27;, &#x27;Price&#x27;, &#x27;Customer ID&#x27;], dtype=&#x27;object&#x27;))])),\n",
              "                (&#x27;model&#x27;, RandomForestRegressor(random_state=42))])</pre></div> </div></div><div class=\"sk-serial\"><div class=\"sk-item sk-dashed-wrapped\"><div class=\"sk-label-container\"><div class=\"sk-label fitted sk-toggleable\"><input class=\"sk-toggleable__control sk-hidden--visually\" id=\"sk-estimator-id-2\" type=\"checkbox\" ><label for=\"sk-estimator-id-2\" class=\"sk-toggleable__label fitted sk-toggleable__label-arrow\"><div><div>preprocessor: ColumnTransformer</div></div><div><a class=\"sk-estimator-doc-link fitted\" rel=\"noreferrer\" target=\"_blank\" href=\"https://scikit-learn.org/1.6/modules/generated/sklearn.compose.ColumnTransformer.html\">?<span>Documentation for preprocessor: ColumnTransformer</span></a></div></label><div class=\"sk-toggleable__content fitted\"><pre>ColumnTransformer(transformers=[(&#x27;cat&#x27;,\n",
              "                                 Pipeline(steps=[(&#x27;imputer&#x27;,\n",
              "                                                  SimpleImputer(strategy=&#x27;most_frequent&#x27;)),\n",
              "                                                 (&#x27;encoder&#x27;,\n",
              "                                                  OneHotEncoder(handle_unknown=&#x27;ignore&#x27;))]),\n",
              "                                 Index([&#x27;Country&#x27;], dtype=&#x27;object&#x27;)),\n",
              "                                (&#x27;num&#x27;,\n",
              "                                 Pipeline(steps=[(&#x27;imputer&#x27;, SimpleImputer())]),\n",
              "                                 Index([&#x27;Quantity&#x27;, &#x27;Price&#x27;, &#x27;Customer ID&#x27;], dtype=&#x27;object&#x27;))])</pre></div> </div></div><div class=\"sk-parallel\"><div class=\"sk-parallel-item\"><div class=\"sk-item\"><div class=\"sk-label-container\"><div class=\"sk-label fitted sk-toggleable\"><input class=\"sk-toggleable__control sk-hidden--visually\" id=\"sk-estimator-id-3\" type=\"checkbox\" ><label for=\"sk-estimator-id-3\" class=\"sk-toggleable__label fitted sk-toggleable__label-arrow\"><div><div>cat</div></div></label><div class=\"sk-toggleable__content fitted\"><pre>Index([&#x27;Country&#x27;], dtype=&#x27;object&#x27;)</pre></div> </div></div><div class=\"sk-serial\"><div class=\"sk-item\"><div class=\"sk-serial\"><div class=\"sk-item\"><div class=\"sk-estimator fitted sk-toggleable\"><input class=\"sk-toggleable__control sk-hidden--visually\" id=\"sk-estimator-id-4\" type=\"checkbox\" ><label for=\"sk-estimator-id-4\" class=\"sk-toggleable__label fitted sk-toggleable__label-arrow\"><div><div>SimpleImputer</div></div><div><a class=\"sk-estimator-doc-link fitted\" rel=\"noreferrer\" target=\"_blank\" href=\"https://scikit-learn.org/1.6/modules/generated/sklearn.impute.SimpleImputer.html\">?<span>Documentation for SimpleImputer</span></a></div></label><div class=\"sk-toggleable__content fitted\"><pre>SimpleImputer(strategy=&#x27;most_frequent&#x27;)</pre></div> </div></div><div class=\"sk-item\"><div class=\"sk-estimator fitted sk-toggleable\"><input class=\"sk-toggleable__control sk-hidden--visually\" id=\"sk-estimator-id-5\" type=\"checkbox\" ><label for=\"sk-estimator-id-5\" class=\"sk-toggleable__label fitted sk-toggleable__label-arrow\"><div><div>OneHotEncoder</div></div><div><a class=\"sk-estimator-doc-link fitted\" rel=\"noreferrer\" target=\"_blank\" href=\"https://scikit-learn.org/1.6/modules/generated/sklearn.preprocessing.OneHotEncoder.html\">?<span>Documentation for OneHotEncoder</span></a></div></label><div class=\"sk-toggleable__content fitted\"><pre>OneHotEncoder(handle_unknown=&#x27;ignore&#x27;)</pre></div> </div></div></div></div></div></div></div><div class=\"sk-parallel-item\"><div class=\"sk-item\"><div class=\"sk-label-container\"><div class=\"sk-label fitted sk-toggleable\"><input class=\"sk-toggleable__control sk-hidden--visually\" id=\"sk-estimator-id-6\" type=\"checkbox\" ><label for=\"sk-estimator-id-6\" class=\"sk-toggleable__label fitted sk-toggleable__label-arrow\"><div><div>num</div></div></label><div class=\"sk-toggleable__content fitted\"><pre>Index([&#x27;Quantity&#x27;, &#x27;Price&#x27;, &#x27;Customer ID&#x27;], dtype=&#x27;object&#x27;)</pre></div> </div></div><div class=\"sk-serial\"><div class=\"sk-item\"><div class=\"sk-serial\"><div class=\"sk-item\"><div class=\"sk-estimator fitted sk-toggleable\"><input class=\"sk-toggleable__control sk-hidden--visually\" id=\"sk-estimator-id-7\" type=\"checkbox\" ><label for=\"sk-estimator-id-7\" class=\"sk-toggleable__label fitted sk-toggleable__label-arrow\"><div><div>SimpleImputer</div></div><div><a class=\"sk-estimator-doc-link fitted\" rel=\"noreferrer\" target=\"_blank\" href=\"https://scikit-learn.org/1.6/modules/generated/sklearn.impute.SimpleImputer.html\">?<span>Documentation for SimpleImputer</span></a></div></label><div class=\"sk-toggleable__content fitted\"><pre>SimpleImputer()</pre></div> </div></div></div></div></div></div></div></div></div><div class=\"sk-item\"><div class=\"sk-estimator fitted sk-toggleable\"><input class=\"sk-toggleable__control sk-hidden--visually\" id=\"sk-estimator-id-8\" type=\"checkbox\" ><label for=\"sk-estimator-id-8\" class=\"sk-toggleable__label fitted sk-toggleable__label-arrow\"><div><div>RandomForestRegressor</div></div><div><a class=\"sk-estimator-doc-link fitted\" rel=\"noreferrer\" target=\"_blank\" href=\"https://scikit-learn.org/1.6/modules/generated/sklearn.ensemble.RandomForestRegressor.html\">?<span>Documentation for RandomForestRegressor</span></a></div></label><div class=\"sk-toggleable__content fitted\"><pre>RandomForestRegressor(random_state=42)</pre></div> </div></div></div></div></div></div>"
            ]
          },
          "metadata": {},
          "execution_count": 38
        }
      ]
    },
    {
      "cell_type": "code",
      "source": [
        "# Make predictions on the test set\n",
        "y_pred = pipeline.predict(X_test)\n",
        "\n",
        "# Calculate Mean Squared Error (MSE)\n",
        "mse = mean_squared_error(y_test, y_pred)\n",
        "print(f\"Mean Squared Error (MSE): {mse:.2f}\")\n",
        "\n",
        "# Calculate R-squared (R²) score\n",
        "r2 = pipeline.score(X_test, y_test)\n",
        "print(f\"R-squared (R²): {r2:.2f}\")\n",
        "\n",
        "# Calculate Mean Absolute Error (MAE)\n",
        "mae = mean_absolute_error(y_test, y_pred)\n",
        "print(f\"Mean Absolute Error (MAE): {mae:.2f}\")\n",
        "\n",
        "# Calculate Precision (in this context, it might not be directly applicable for regression tasks)\n",
        "# Precision is typically used for classification tasks, but let's include it for educational purposes\n",
        "precision = precision_score(y_test > 0, y_pred > 0)\n",
        "print(f\"Precision: {precision:.2f}\")"
      ],
      "metadata": {
        "colab": {
          "base_uri": "https://localhost:8080/"
        },
        "id": "ud-p6LgwQj0e",
        "outputId": "1c71a14f-075f-41ea-e117-f56f48766d3d"
      },
      "execution_count": 39,
      "outputs": [
        {
          "output_type": "stream",
          "name": "stdout",
          "text": [
            "Mean Squared Error (MSE): 2422.52\n",
            "R-squared (R²): 0.72\n",
            "Mean Absolute Error (MAE): 1.34\n",
            "Precision: 1.00\n"
          ]
        }
      ]
    },
    {
      "cell_type": "code",
      "source": [
        "import pandas as pd\n",
        "from sklearn.model_selection import train_test_split\n",
        "from sklearn.svm import SVC\n",
        "from sklearn.metrics import accuracy_score, precision_score, recall_score, roc_auc_score\n",
        "from sklearn.preprocessing import LabelEncoder\n",
        "import numpy as np\n",
        "\n",
        "# Load data\n",
        "data = pd.read_csv('online_retail.csv', encoding='latin1')\n",
        "\n",
        "# Drop rows with critical missing values\n",
        "data = data.dropna(subset=['Quantity', 'Price'])\n",
        "\n",
        "# Calculate Revenue\n",
        "data['Revenue'] = data['Quantity'] * data['Price']\n",
        "\n",
        "# Define a binary target for classification (e.g., high revenue vs. low revenue)\n",
        "threshold = data['Revenue'].median()  # Median threshold\n",
        "data['HighRevenue'] = (data['Revenue'] > threshold).astype(int)\n",
        "\n",
        "# Drop irrelevant columns\n",
        "data = data.drop(columns=['Invoice', 'Description', 'InvoiceDate', 'Customer ID', 'Country'])\n",
        "\n",
        "# Handle non-numeric data (if any remain)\n",
        "# Check for non-numeric columns\n",
        "non_numeric_cols = data.select_dtypes(include=['object']).columns\n",
        "print(f\"Non-numeric columns: {non_numeric_cols}\")\n",
        "\n",
        "# Encode non-numeric columns (if any)\n",
        "if not non_numeric_cols.empty:\n",
        "    for col in non_numeric_cols:\n",
        "        le = LabelEncoder()\n",
        "        data[col] = le.fit_transform(data[col])\n",
        "\n",
        "# Define features and target\n",
        "X = data.drop(columns=['Revenue', 'HighRevenue'])\n",
        "y = data['HighRevenue']\n",
        "\n",
        "# Sample the data to reduce size\n",
        "X, y = X.sample(frac=0.1, random_state=42), y.sample(frac=0.1, random_state=42)\n",
        "\n",
        "# Split the dataset\n",
        "X_train, X_test, y_train, y_test = train_test_split(X, y, test_size=0.2, random_state=42)\n",
        "\n",
        "# Initialize and train the model with a limit on iterations\n",
        "model = SVC(kernel='linear', max_iter=1000, random_state=42)\n",
        "model.fit(X_train, y_train)\n",
        "\n",
        "# Make predictions\n",
        "y_pred = model.predict(X_test)\n",
        "\n",
        "# Evaluate the model\n",
        "accuracy = accuracy_score(y_test, y_pred)\n",
        "precision = precision_score(y_test, y_pred)\n",
        "recall = recall_score(y_test, y_pred)\n",
        "roc_auc = roc_auc_score(y_test, y_pred)\n",
        "\n",
        "print(f\"Accuracy: {accuracy:.2f}\")\n",
        "print(f\"Precision: {precision:.2f}\")\n",
        "print(f\"Recall: {recall:.2f}\")\n",
        "print(f\"ROC AUC Score: {roc_auc:.2f}\")\n"
      ],
      "metadata": {
        "colab": {
          "base_uri": "https://localhost:8080/"
        },
        "id": "p1MEM-JDQscH",
        "outputId": "2eb76b05-25e4-4d46-89e3-3eae2633af6e"
      },
      "execution_count": 40,
      "outputs": [
        {
          "output_type": "stream",
          "name": "stdout",
          "text": [
            "Non-numeric columns: Index(['StockCode'], dtype='object')\n",
            "Accuracy: 0.49\n",
            "Precision: 0.49\n",
            "Recall: 1.00\n",
            "ROC AUC Score: 0.50\n"
          ]
        },
        {
          "output_type": "stream",
          "name": "stderr",
          "text": [
            "/usr/local/lib/python3.11/dist-packages/sklearn/svm/_base.py:304: ConvergenceWarning: Solver terminated early (max_iter=1000).  Consider pre-processing your data with StandardScaler or MinMaxScaler.\n",
            "  warnings.warn(\n"
          ]
        }
      ]
    }
  ]
}